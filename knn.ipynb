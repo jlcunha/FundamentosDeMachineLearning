{
 "cells": [
  {
   "cell_type": "markdown",
   "id": "ad252331-2965-4750-b22c-242690d25d74",
   "metadata": {},
   "source": [
    "# KNN\n",
    "\n",
    "[Ciclo 02: Aprendizado supervisionado - Classificação - KNN](https://membro.comunidadedatascience.com/89193-fundamentos-de-machine-learning/2150255-aula-11-k-nearest-neighbors-teoria)"
   ]
  },
  {
   "cell_type": "code",
   "execution_count": 2,
   "id": "59ca31e1-65fb-4c89-87d3-65514605bad1",
   "metadata": {
    "tags": []
   },
   "outputs": [],
   "source": [
    "import pandas as pd\n",
    "import numpy as np\n",
    "from sklearn.preprocessing import MinMaxScaler"
   ]
  },
  {
   "cell_type": "code",
   "execution_count": null,
   "id": "df6f07f8-13b4-43a1-8b69-7ff4d2dd3422",
   "metadata": {},
   "outputs": [],
   "source": []
  }
 ],
 "metadata": {
  "kernelspec": {
   "display_name": "Python 3 (ipykernel)",
   "language": "python",
   "name": "python3"
  },
  "language_info": {
   "codemirror_mode": {
    "name": "ipython",
    "version": 3
   },
   "file_extension": ".py",
   "mimetype": "text/x-python",
   "name": "python",
   "nbconvert_exporter": "python",
   "pygments_lexer": "ipython3",
   "version": "3.10.0"
  }
 },
 "nbformat": 4,
 "nbformat_minor": 5
}
